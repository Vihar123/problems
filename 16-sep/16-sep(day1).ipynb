{
 "cells": [
  {
   "cell_type": "markdown",
   "metadata": {},
   "source": [
    "# hello world\n",
    "printing some string\n",
    "syntax:print()"
   ]
  },
  {
   "cell_type": "code",
   "execution_count": 2,
   "metadata": {},
   "outputs": [
    {
     "name": "stdout",
     "output_type": "stream",
     "text": [
      "sai\n"
     ]
    }
   ],
   "source": [
    "print(\"sai\")"
   ]
  },
  {
   "cell_type": "code",
   "execution_count": 11,
   "metadata": {},
   "outputs": [
    {
     "ename": "SyntaxError",
     "evalue": "EOL while scanning string literal (<ipython-input-11-b11b7a0ea8a8>, line 1)",
     "output_type": "error",
     "traceback": [
      "\u001b[1;36m  File \u001b[1;32m\"<ipython-input-11-b11b7a0ea8a8>\"\u001b[1;36m, line \u001b[1;32m1\u001b[0m\n\u001b[1;33m    print('sai'' ''\"vihar\")\u001b[0m\n\u001b[1;37m                           ^\u001b[0m\n\u001b[1;31mSyntaxError\u001b[0m\u001b[1;31m:\u001b[0m EOL while scanning string literal\n"
     ]
    }
   ],
   "source": [
    "print('sai'' ''\"vihar\")"
   ]
  },
  {
   "cell_type": "code",
   "execution_count": 9,
   "metadata": {},
   "outputs": [
    {
     "name": "stdout",
     "output_type": "stream",
     "text": [
      "1 2\n"
     ]
    }
   ],
   "source": [
    "print('1','2')"
   ]
  },
  {
   "cell_type": "code",
   "execution_count": 10,
   "metadata": {},
   "outputs": [
    {
     "name": "stdout",
     "output_type": "stream",
     "text": [
      "a b\n"
     ]
    }
   ],
   "source": [
    "print('a','b')"
   ]
  },
  {
   "cell_type": "code",
   "execution_count": 12,
   "metadata": {},
   "outputs": [
    {
     "name": "stdout",
     "output_type": "stream",
     "text": [
      "1 2\n"
     ]
    }
   ],
   "source": [
    "i=1\n",
    "j=2\n",
    "print(i,j)"
   ]
  },
  {
   "cell_type": "markdown",
   "metadata": {},
   "source": [
    "# datatypes\n",
    "integer\n",
    "long\n",
    "shot\n",
    "float \n",
    "double\n",
    "char \n",
    "string\n",
    "booleanJupyter And R Markdown: Notebooks With R\n",
    "Learn how to install, run and use R with Jupyter Notebook and RStudio's R Notebook, including tips and alternatives\n",
    "When working on data science problems, you might want to set up an interactive environment to work and share your code for a project with others. You can easily set this up with a notebook. \n",
    "\n",
    "In other cases, you’ll just want to communicate about the workflow and the results that you have gathered for the analysis of your data science problem. For a transparent and reproducible report, a notebook can also come in handy.\n",
    "\n",
    "That's right; notebooks are perfect for situations where you want to combine plain text with rich text elements such as graphics, calculations, etc.\n",
    "\n",
    "This tutorial will cover the following topics:\n",
    "\n",
    "A practical introduction to working with R in the Jupyter Notebook. You'll see how you can get the R kernel installed and how you can use R magics to make your notebooks truly interactive,\n",
    "An introduction to the R Markdown Notebook: you'll learn how this feature evolved in the history of reproducible research and R, how it compares to other computational notebooks, how you can install and use it, and what tips and tricks will come in handy,\n",
    "An overview of the similarities and differences between these two notebooks, with a focus on notebook sharing, code excution, version control, and project management; and\n",
    "You'll also learn about what other alternatives to Jupyter and R Markdown notebooks are out there when you're working with R, such as Bookdown, DataCamp Light, Shiny, etc.\n",
    "R And The Jupyter Notebook\n",
    "\n",
    "Contrary to what you might think, Jupyter doesn’t limit you to working solely with Python: the notebook application is language agnostic, which means that you can also work with other languages. \n",
    "\n",
    "There are two general ways to get started on using R with Jupyter: by using a kernel or by setting up an R environment that has all the essential tools to get started on doing data science.\n",
    "\n",
    "Running R in Jupyter With The R Kernel\n",
    "As described above, the first way to run R is by using a kernel. If you want to have a complete list of all the available kernels in Jupyter, go here.\n",
    "\n",
    "To work with R, you’ll need to load the IRKernel and activate it to get started on working with R in the notebook environment.\n",
    "\n",
    "First, you'll need to install some packages. Make sure that you don't do this in your RStudio console, but in a regular R terminal, otherwise you'll get an error like this:\n",
    "\n",
    "Error in IRkernel::installspec() :\n",
    "Jupyter or IPython 3.0 has to be installed but could neither run “jupyter” nor “ipython”, “ipython2” or “ipython3”.\n",
    "(Note that “ipython2” is just IPython for Python 2, but still may be IPython 3.0)\n",
    "$ R\n",
    "\n",
    "> install.packages(c('repr', 'IRdisplay', 'evaluate', 'crayon', 'pbdZMQ', 'devtools', 'uuid', 'digest'))\n",
    "This command will prompt you to type in a number to select a CRAN mirror to install the necessary packages. Enter a number and the installation will continue.\n",
    "\n",
    "> devtools::install_github('IRkernel/IRkernel')\n",
    "Then, you still need to make the R kerne\n",
    "\n"
   ]
  }
 ],
 "metadata": {
  "kernelspec": {
   "display_name": "Python 3",
   "language": "python",
   "name": "python3"
  },
  "language_info": {
   "codemirror_mode": {
    "name": "ipython",
    "version": 3
   },
   "file_extension": ".py",
   "mimetype": "text/x-python",
   "name": "python",
   "nbconvert_exporter": "python",
   "pygments_lexer": "ipython3",
   "version": "3.7.3"
  }
 },
 "nbformat": 4,
 "nbformat_minor": 2
}
